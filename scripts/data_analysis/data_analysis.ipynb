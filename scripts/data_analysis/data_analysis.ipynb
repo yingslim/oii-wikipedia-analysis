{
 "cells": [
  {
   "cell_type": "code",
   "execution_count": 7,
   "metadata": {},
   "outputs": [
    {
     "name": "stdout",
     "output_type": "stream",
     "text": [
      "The autoreload extension is already loaded. To reload it, use:\n",
      "  %reload_ext autoreload\n"
     ]
    }
   ],
   "source": [
    "%load_ext autoreload\n",
    "%autoreload 2\n",
    "\n",
    "import pandas as pd\n",
    "import sys\n",
    "from pathlib import Path\n",
    "\n",
    "scripts_dir = Path().resolve().parent\n",
    "sys.path.append(str(scripts_dir))\n",
    "from config import *\n",
    "\n",
    "\n",
    "## importing common data\n",
    "import matplotlib.pyplot as plt\n",
    "import seaborn as sns\n",
    "import numpy as np\n"
   ]
  },
  {
   "cell_type": "code",
   "execution_count": 8,
   "metadata": {},
   "outputs": [],
   "source": [
    "!pip freeze>requirements.txt"
   ]
  },
  {
   "cell_type": "code",
   "execution_count": 9,
   "metadata": {},
   "outputs": [],
   "source": [
    "ky_df = pd.read_feather(DATA_DIR+'/DataFrames/Kanye West.feather')\n",
    "ts_df = pd.read_feather(DATA_DIR+'/DataFrames/Taylor Swift.feather')"
   ]
  },
  {
   "cell_type": "code",
   "execution_count": 10,
   "metadata": {},
   "outputs": [
    {
     "data": {
      "text/plain": [
       "10342                    /* 2015–16: The Life of Pablo' */\n",
       "10341    /* 2015–16: The Life of Pablo and Turbo Grafx ...\n",
       "10340    /* 2015–16: The Life of Pablo and Turbo Grafx ...\n",
       "10339             /* 2013–15: Yeezus and ancillary work */\n",
       "10338                                         /* Career */\n",
       "                               ...                        \n",
       "4                                                     None\n",
       "3                                                     None\n",
       "2                               removed plagarized content\n",
       "1                                                     None\n",
       "0                                                     None\n",
       "Name: comment, Length: 10343, dtype: object"
      ]
     },
     "execution_count": 10,
     "metadata": {},
     "output_type": "execute_result"
    }
   ],
   "source": [
    "ky_df['comment']"
   ]
  },
  {
   "cell_type": "code",
   "execution_count": 11,
   "metadata": {},
   "outputs": [
    {
     "data": {
      "text/html": [
       "<div>\n",
       "<style scoped>\n",
       "    .dataframe tbody tr th:only-of-type {\n",
       "        vertical-align: middle;\n",
       "    }\n",
       "\n",
       "    .dataframe tbody tr th {\n",
       "        vertical-align: top;\n",
       "    }\n",
       "\n",
       "    .dataframe thead th {\n",
       "        text-align: right;\n",
       "    }\n",
       "</style>\n",
       "<table border=\"1\" class=\"dataframe\">\n",
       "  <thead>\n",
       "    <tr style=\"text-align: right;\">\n",
       "      <th></th>\n",
       "      <th>revision_id</th>\n",
       "      <th>timestamp</th>\n",
       "      <th>username</th>\n",
       "      <th>userid</th>\n",
       "      <th>comment</th>\n",
       "      <th>text_length</th>\n",
       "      <th>text</th>\n",
       "      <th>year</th>\n",
       "      <th>month</th>\n",
       "      <th>day</th>\n",
       "    </tr>\n",
       "  </thead>\n",
       "  <tbody>\n",
       "    <tr>\n",
       "      <th>7795</th>\n",
       "      <td>632892358</td>\n",
       "      <td>2014-11-07 23:56:21+00:00</td>\n",
       "      <td>Popeye191</td>\n",
       "      <td>6138283</td>\n",
       "      <td>None</td>\n",
       "      <td>217638</td>\n",
       "      <td>{{For|the album|Taylor Swift (album)}}\\n{{Good...</td>\n",
       "      <td>2014</td>\n",
       "      <td>11</td>\n",
       "      <td>07</td>\n",
       "    </tr>\n",
       "    <tr>\n",
       "      <th>7794</th>\n",
       "      <td>632891835</td>\n",
       "      <td>2014-11-07 23:52:02+00:00</td>\n",
       "      <td>Popeye191</td>\n",
       "      <td>6138283</td>\n",
       "      <td>None</td>\n",
       "      <td>217659</td>\n",
       "      <td>{{For|Swift's self-titled 2006 album|Taylor Sw...</td>\n",
       "      <td>2014</td>\n",
       "      <td>11</td>\n",
       "      <td>07</td>\n",
       "    </tr>\n",
       "    <tr>\n",
       "      <th>7793</th>\n",
       "      <td>632890028</td>\n",
       "      <td>2014-11-07 23:34:44+00:00</td>\n",
       "      <td>Lindenhurst Liberty</td>\n",
       "      <td>18562586</td>\n",
       "      <td>None</td>\n",
       "      <td>217697</td>\n",
       "      <td>{{For|Swift's self-titled 2006 album|Taylor Sw...</td>\n",
       "      <td>2014</td>\n",
       "      <td>11</td>\n",
       "      <td>07</td>\n",
       "    </tr>\n",
       "    <tr>\n",
       "      <th>7792</th>\n",
       "      <td>632875896</td>\n",
       "      <td>2014-11-07 21:23:51+00:00</td>\n",
       "      <td>Popeye191</td>\n",
       "      <td>6138283</td>\n",
       "      <td>None</td>\n",
       "      <td>217697</td>\n",
       "      <td>{{For|Swift's self-titled 2006 album|Taylor Sw...</td>\n",
       "      <td>2014</td>\n",
       "      <td>11</td>\n",
       "      <td>07</td>\n",
       "    </tr>\n",
       "    <tr>\n",
       "      <th>7791</th>\n",
       "      <td>632875462</td>\n",
       "      <td>2014-11-07 21:19:56+00:00</td>\n",
       "      <td>Popeye191</td>\n",
       "      <td>6138283</td>\n",
       "      <td>None</td>\n",
       "      <td>217709</td>\n",
       "      <td>{{For|Swift's self-titled 2006 album|Taylor Sw...</td>\n",
       "      <td>2014</td>\n",
       "      <td>11</td>\n",
       "      <td>07</td>\n",
       "    </tr>\n",
       "  </tbody>\n",
       "</table>\n",
       "</div>"
      ],
      "text/plain": [
       "     revision_id                 timestamp             username    userid  \\\n",
       "7795   632892358 2014-11-07 23:56:21+00:00            Popeye191   6138283   \n",
       "7794   632891835 2014-11-07 23:52:02+00:00            Popeye191   6138283   \n",
       "7793   632890028 2014-11-07 23:34:44+00:00  Lindenhurst Liberty  18562586   \n",
       "7792   632875896 2014-11-07 21:23:51+00:00            Popeye191   6138283   \n",
       "7791   632875462 2014-11-07 21:19:56+00:00            Popeye191   6138283   \n",
       "\n",
       "     comment  text_length                                               text  \\\n",
       "7795    None       217638  {{For|the album|Taylor Swift (album)}}\\n{{Good...   \n",
       "7794    None       217659  {{For|Swift's self-titled 2006 album|Taylor Sw...   \n",
       "7793    None       217697  {{For|Swift's self-titled 2006 album|Taylor Sw...   \n",
       "7792    None       217697  {{For|Swift's self-titled 2006 album|Taylor Sw...   \n",
       "7791    None       217709  {{For|Swift's self-titled 2006 album|Taylor Sw...   \n",
       "\n",
       "      year month day  \n",
       "7795  2014    11  07  \n",
       "7794  2014    11  07  \n",
       "7793  2014    11  07  \n",
       "7792  2014    11  07  \n",
       "7791  2014    11  07  "
      ]
     },
     "execution_count": 11,
     "metadata": {},
     "output_type": "execute_result"
    }
   ],
   "source": [
    "ts_df.head()"
   ]
  },
  {
   "cell_type": "code",
   "execution_count": 12,
   "metadata": {},
   "outputs": [],
   "source": [
    "ts_df.to_csv(OUTPUT_DIR+'/sample_ty.csv', index=False)"
   ]
  }
 ],
 "metadata": {
  "kernelspec": {
   "display_name": ".venv",
   "language": "python",
   "name": "python3"
  },
  "language_info": {
   "codemirror_mode": {
    "name": "ipython",
    "version": 3
   },
   "file_extension": ".py",
   "mimetype": "text/x-python",
   "name": "python",
   "nbconvert_exporter": "python",
   "pygments_lexer": "ipython3",
   "version": "3.10.0"
  }
 },
 "nbformat": 4,
 "nbformat_minor": 2
}
